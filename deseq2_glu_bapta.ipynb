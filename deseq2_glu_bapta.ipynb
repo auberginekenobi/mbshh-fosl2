{
 "cells": [
  {
   "cell_type": "markdown",
   "id": "de0a7a0d-3b7d-43e9-ac5c-d45a5c610c94",
   "metadata": {},
   "source": [
    "# Differential expression analysis\n",
    "Data are GNPs from control, +Glu, and +Glu/+BAPTA samples.  \n",
    "[DESeq2 docs](https://bioconductor.org/packages/devel/bioc/vignettes/DESeq2/inst/doc/DESeq2.html)\n",
    "\n",
    "## Some notes on results\n",
    "**Adjusted p-value = NA.** By default DESEq2 does not perform multiple hypothesis correction for genes with low average expression in the data, under the assumption that genes with low expression are unlikely to be biologically relevant. See [DESeq2 note](https://bioconductor.org/packages/release/bioc/vignettes/DESeq2/inst/doc/DESeq2.html#indfilt) and [paper](https://www.pnas.org/doi/full/10.1073/pnas.0914005107). However, this results in different expression cutoffs for our comparisons of interest: 4 for ctrl vs. glu and 40 for glu vs bapta. Since we would prefer to test the same set of genes for both comparisons, we disable independent filtering here.  \n",
    "**TODO**  \n",
    "- make some plots"
   ]
  },
  {
   "cell_type": "code",
   "execution_count": null,
   "id": "beb7ba5d-8c9a-4b18-848a-8c48489e9a75",
   "metadata": {
    "scrolled": true
   },
   "outputs": [],
   "source": [
    "Sys.setenv(LANGUAGE = \"en\") # set language to \"ja\" if you prefer\n",
    "library(DESeq2)\n",
    "library(dplyr)\n",
    "library(tibble)\n",
    "library(readr)"
   ]
  },
  {
   "cell_type": "markdown",
   "id": "ff8cadca-0c2b-4863-aaba-ca78380379f4",
   "metadata": {},
   "source": [
    "# Get and process your data"
   ]
  },
  {
   "cell_type": "code",
   "execution_count": null,
   "id": "361d7664-4b07-47eb-839d-3440075a94bf",
   "metadata": {},
   "outputs": [],
   "source": [
    "data_location = 'data/counts_exon_uns.txt'\n",
    "annotation_location = 'data/sample_metadata.txt'\n",
    "\n",
    "as_matrix <- function(tibble){\n",
    "    # Extract the first column and store it as row names\n",
    "    row_names <- tibble[[1]]  # The 0th column (first column)\n",
    "    # Remove the first column from the tibble\n",
    "    my_tibble_no_first <- tibble %>% select(-1)\n",
    "    # Convert the remaining tibble to a matrix\n",
    "    my_matrix <- as.matrix(my_tibble_no_first)\n",
    "    # Assign the first column as row names of the matrix\n",
    "    rownames(my_matrix) <- row_names\n",
    "    return(my_matrix)\n",
    "}\n",
    "\n",
    "# Read and format our annotation table\n",
    "annot = read_table(annotation_location)\n",
    "\n",
    "# Read and format our gene expression data\n",
    "data = read_table(data_location,skip=1) %>% suppressWarnings %>%\n",
    "    select(-Chr, -Start, -End, -Strand, -Length) %>%\n",
    "    rename(!!!setNames(annot$file, annot$sample_name)) %>%\n",
    "    as_matrix\n",
    "\n",
    "# finish formatting our annotations...\n",
    "annot <- annot %>% \n",
    "    select(-file) %>%\n",
    "    as.data.frame\n",
    "rownames(annot) <- annot[[1]]  # Set the first column as rownames\n",
    "annot <- annot[, -1]           # Remove the first column from the data frame\n",
    "annot[] <- lapply(annot, factor)\n",
    "#annot$glu <- factor(annot$glu)\n",
    "#coldata$type <- factor(coldata$type)"
   ]
  },
  {
   "cell_type": "code",
   "execution_count": null,
   "id": "0819ece8-8904-4b42-9f21-2ff4a7738add",
   "metadata": {},
   "outputs": [],
   "source": [
    "data %>% head\n",
    "annot %>% head"
   ]
  },
  {
   "cell_type": "code",
   "execution_count": null,
   "id": "c8cb799b-c561-4954-9c84-8e2a037fd4bd",
   "metadata": {},
   "outputs": [],
   "source": [
    "get_hits <- function(deseq_result,decreasing=FALSE,outfile=NULL){\n",
    "    res_df <- as.data.frame(deseq_result)  # Convert DESeqResults object to a data frame\n",
    "    res_df <- res_df[order(res_df$log2FoldChange, decreasing=decreasing),]  # Sort by foldChange\n",
    "    # Filter by padj < 0.05\n",
    "    filtered_sorted_res <- res_df[(!is.na(res_df$padj)) & (res_df$padj < 0.05), ]  # Filter by padj\n",
    "    \n",
    "    if (!is.null(outfile)) {\n",
    "        # Write the data frame to a tab-separated file (TSV)\n",
    "        write.table(res_df, file = outfile, sep = \"\\t\", quote = FALSE)\n",
    "    }\n",
    "    return(filtered_sorted_res)\n",
    "}"
   ]
  },
  {
   "cell_type": "markdown",
   "id": "196741e2-019b-4f2f-ba26-ca66fe9bb05f",
   "metadata": {},
   "source": [
    "# Full linear model\n",
    "2 gnp, 2 glu, 2 bapta"
   ]
  },
  {
   "cell_type": "code",
   "execution_count": null,
   "id": "eb1c78ff-5a65-4d57-8b85-a320e60d5213",
   "metadata": {},
   "outputs": [],
   "source": [
    "dds <- DESeq2::DESeqDataSetFromMatrix(countData = data,\n",
    "                              colData = annot,\n",
    "                              design = ~ glu + bapta)\n",
    "# Pre-filter\n",
    "smallestGroupSize <- 2\n",
    "keep <- rowSums(counts(dds) >= 10) >= smallestGroupSize\n",
    "dds <- dds[keep,]\n",
    "dds$glu <- relevel(dds$glu, ref = TRUE)\n",
    "# Run regression\n",
    "dds <- DESeq(dds)\n",
    "dds"
   ]
  },
  {
   "cell_type": "code",
   "execution_count": null,
   "id": "29666e82-1c3f-4709-84e2-380a7df501e9",
   "metadata": {},
   "outputs": [],
   "source": [
    "# A bit of QC - looks like replicates cluster together on PC1, which is good\n",
    "vsd <- vst(dds, blind=TRUE)\n",
    "plotPCA(vsd, intgroup=c(\"glu\", \"bapta\"))"
   ]
  },
  {
   "cell_type": "code",
   "execution_count": null,
   "id": "256e569c-de9c-426c-98b6-095a210b4f03",
   "metadata": {},
   "outputs": [],
   "source": [
    "## Generate DE comparisons. Wald test with BH correction. Post-hoc LFC shrinkage with apeglm.\n",
    "\n",
    "# reference is glu+/bapta-, comparison is glu-/bapta-\n",
    "res_wrt_glu_noshrink <- results(dds, contrast=c(\"glu\",TRUE,FALSE),independentFiltering=FALSE)\n",
    "res_wrt_glu <- lfcShrink(dds, coef=\"glu_TRUE_vs_FALSE\", res=res_wrt_glu_noshrink, type=\"apeglm\")\n",
    "\n",
    "# reference is glu+/bapta-, comparison is glu+/bapta+\n",
    "res_wrt_bapta_noshrink <- results(dds, contrast=c(\"bapta\",TRUE,FALSE),independentFiltering=FALSE)\n",
    "res_wrt_bapta <- lfcShrink(dds, coef=\"bapta_TRUE_vs_FALSE\", res=res_wrt_bapta_noshrink, type=\"apeglm\")"
   ]
  },
  {
   "cell_type": "code",
   "execution_count": null,
   "id": "e218b24a-593c-4e25-9045-f5535f4170f3",
   "metadata": {},
   "outputs": [],
   "source": [
    "# genes down in bapta+  \n",
    "get_hits(res_wrt_bapta,FALSE,outfile='out/deg_wrt_bapta.tsv') %>% head(n=10)"
   ]
  },
  {
   "cell_type": "code",
   "execution_count": null,
   "id": "6b2de680-9252-4f23-8814-e2efc6ff172e",
   "metadata": {},
   "outputs": [],
   "source": [
    "# genes up in glu+ relative to glu-\n",
    "get_hits(res_wrt_glu,TRUE,outfile='out/deg_wrt_glu.tsv') %>% head(n=10)"
   ]
  },
  {
   "cell_type": "code",
   "execution_count": null,
   "id": "816375b0-4942-4d8f-9ad8-9eb7abee5815",
   "metadata": {},
   "outputs": [],
   "source": [
    "# Look at the result for a specific gene using this syntax\n",
    "res_wrt_glu_noshrink[rownames(res_wrt_glu) == 'Fosl2',]\n",
    "res_wrt_glu[rownames(res_wrt_glu) == 'Fosl2',]\n",
    "\n",
    "res_wrt_bapta_noshrink[rownames(res_wrt_glu) == 'Fosl2',]\n",
    "res_wrt_bapta[rownames(res_wrt_glu) == 'Fosl2',]"
   ]
  },
  {
   "cell_type": "code",
   "execution_count": null,
   "id": "063a36ea-a267-400d-b1c7-26e8293c8969",
   "metadata": {
    "scrolled": true
   },
   "outputs": [],
   "source": [
    "metadata(res_wrt_glu)$filterThreshold\n",
    "metadata(res_wrt_bapta)$filterThreshold"
   ]
  },
  {
   "cell_type": "markdown",
   "id": "d65b988f-d84d-43b3-a4d1-677a8d561992",
   "metadata": {},
   "source": [
    "# Pairwise models\n",
    "I don't know how to specify the design formula to answer glu+bapta- vs glu+bapta+, so let's create pairwise models of the comparisons of interest (and revisit the full linear model later)."
   ]
  },
  {
   "cell_type": "code",
   "execution_count": null,
   "id": "c39830be-0acd-4c97-b030-1c5e588747d2",
   "metadata": {},
   "outputs": [],
   "source": [
    "get_hits <- function(deseq_result,decreasing=FALSE){\n",
    "    res_df <- as.data.frame(deseq_result)  # Convert DESeqResults object to a data frame\n",
    "    # Filter by p_adjusted < 0.05 and sort by log2FoldChange\n",
    "    filtered_sorted_res <- res_df[res_df$padj < 0.05, ]  # Filter by padj\n",
    "    filtered_sorted_res <- filtered_sorted_res[order(filtered_sorted_res$log2FoldChange, decreasing=decreasing),]  # Sort by foldChange\n",
    "    return(filtered_sorted_res)\n",
    "}"
   ]
  },
  {
   "cell_type": "markdown",
   "id": "7e1e1ae7-ee5d-4818-8182-665f063c943b",
   "metadata": {},
   "source": [
    "## glu-/bapta- vs glu+/bapta-"
   ]
  },
  {
   "cell_type": "code",
   "execution_count": null,
   "id": "b2ac2dd0-b19e-471f-b1e7-26f335770ec8",
   "metadata": {},
   "outputs": [],
   "source": [
    "dds_glu <- DESeq2::DESeqDataSetFromMatrix(countData = data[,1:4],\n",
    "                              colData = annot[1:4,1,drop = FALSE],\n",
    "                              design = ~ glu)\n",
    "# Pre-filter\n",
    "smallestGroupSize <- 2\n",
    "keep <- rowSums(counts(dds_glu) >= 10) >= smallestGroupSize\n",
    "dds_glu <- dds_glu[keep,]\n",
    "# Run regression\n",
    "dds_glu <- DESeq(dds_glu)\n",
    "dds_glu"
   ]
  },
  {
   "cell_type": "code",
   "execution_count": null,
   "id": "15595efb-295c-426d-93fb-d17fd00e57fd",
   "metadata": {},
   "outputs": [],
   "source": [
    "res_glu <- results(dds_glu)\n",
    "get_hits(res_glu,TRUE) %>% head(n=10)\n",
    "res_glu[rownames(res_glu) == 'Fos',]"
   ]
  },
  {
   "cell_type": "markdown",
   "id": "9735b22e-5bdd-4d77-bdf7-c5dc43641042",
   "metadata": {},
   "source": [
    "## glu+/bapta- vs glu+/bapta+"
   ]
  },
  {
   "cell_type": "code",
   "execution_count": null,
   "id": "75d60696-ce9c-4811-a596-f99bf65b084b",
   "metadata": {},
   "outputs": [],
   "source": [
    "dds_bapta <- DESeq2::DESeqDataSetFromMatrix(countData = data[,3:6],\n",
    "                              colData = annot[3:6,2,drop = FALSE],\n",
    "                              design = ~ bapta)\n",
    "smallestGroupSize <- 2\n",
    "keep <- rowSums(counts(dds_bapta) >= 10) >= smallestGroupSize\n",
    "dds_bapta <- dds_bapta[keep,]\n",
    "# Run regression\n",
    "dds_bapta <- DESeq(dds_bapta)\n",
    "#dds_bapta\n",
    "res_bapta <- results(dds_bapta)"
   ]
  },
  {
   "cell_type": "code",
   "execution_count": null,
   "id": "c7834dfc-f2a3-47ac-8599-aab4ccef3bfa",
   "metadata": {},
   "outputs": [],
   "source": [
    "get_hits(res_bapta) %>% head(n=10)"
   ]
  }
 ],
 "metadata": {
  "kernelspec": {
   "display_name": "fosl2-de",
   "language": "R",
   "name": "fosl2-de"
  },
  "language_info": {
   "codemirror_mode": "r",
   "file_extension": ".r",
   "mimetype": "text/x-r-source",
   "name": "R",
   "pygments_lexer": "r",
   "version": "4.3.3"
  }
 },
 "nbformat": 4,
 "nbformat_minor": 5
}
